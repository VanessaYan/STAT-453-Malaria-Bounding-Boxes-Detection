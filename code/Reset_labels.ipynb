{
 "cells": [
  {
   "cell_type": "code",
   "execution_count": 1,
   "metadata": {},
   "outputs": [],
   "source": [
    "import numpy as np\n",
    "import cv2,os,json\n",
    "import matplotlib.pyplot as plt\n",
    "import os"
   ]
  },
  {
   "cell_type": "code",
   "execution_count": 2,
   "metadata": {},
   "outputs": [],
   "source": [
    "with open('training.json') as f:\n",
    "  train = json.load(f)\n",
    "\n",
    "with open('test.json') as f:\n",
    "  test = json.load(f)"
   ]
  },
  {
   "cell_type": "code",
   "execution_count": 3,
   "metadata": {},
   "outputs": [],
   "source": [
    "def unique_label(data):\n",
    "    cat=[]\n",
    "    for i in range(len(data)):\n",
    "        im=data[i]['objects']\n",
    "        \n",
    "        for j in range(len(im)):\n",
    "            cat.append(im[j]['category'])\n",
    "    \n",
    "    cat = np.array(cat)\n",
    "    print(np.unique(cat))"
   ]
  },
  {
   "cell_type": "code",
   "execution_count": 4,
   "metadata": {},
   "outputs": [
    {
     "name": "stdout",
     "output_type": "stream",
     "text": [
      "['difficult' 'gametocyte' 'leukocyte' 'red blood cell' 'ring' 'schizont'\n",
      " 'trophozoite']\n"
     ]
    }
   ],
   "source": [
    "unique_label(train)"
   ]
  },
  {
   "cell_type": "code",
   "execution_count": 5,
   "metadata": {},
   "outputs": [
    {
     "name": "stdout",
     "output_type": "stream",
     "text": [
      "['difficult' 'gametocyte' 'red blood cell' 'ring' 'schizont' 'trophozoite']\n"
     ]
    }
   ],
   "source": [
    "unique_label(test)"
   ]
  },
  {
   "cell_type": "code",
   "execution_count": 6,
   "metadata": {},
   "outputs": [],
   "source": [
    "relabel = lambda lab: 'uninfected' if lab in ['leukocyte', 'red blood cell'] else 'infected'\n",
    "\n",
    "def get_coordinate(box):\n",
    "    b = box['bounding_box'].copy()\n",
    "    x1 = b['minimum']['c']\n",
    "    y1 = b['minimum']['r']\n",
    "    x2 = b['maximum']['c']\n",
    "    y2 = b['maximum']['r']\n",
    "    box['bbx'] = {'x1':x1,'x2':x2,'y1':y1,'y2':y2}\n",
    "    del box['bounding_box']\n",
    "    \n",
    "def reset(data):\n",
    "    index={}\n",
    "    \n",
    "    for i in range(len(data)):\n",
    "        sample=data[i]['objects']\n",
    "        ind = []\n",
    "        \n",
    "        for j in range(len(sample)):\n",
    "            label = sample[j]['category']\n",
    "            if label==\"difficult\":\n",
    "                ind.append(j)\n",
    "            else:\n",
    "                data[i]['objects'][j]['category']=relabel(label)\n",
    "            get_coordinate(sample[j])\n",
    "                \n",
    "        if len(ind):\n",
    "            index[i] = ind\n",
    "            \n",
    "    for index_i in index:\n",
    "        indice = sorted(index[index_i], reverse=True)\n",
    "        for ind in indice:\n",
    "            del data[index_i]['objects'][ind]"
   ]
  },
  {
   "cell_type": "code",
   "execution_count": 7,
   "metadata": {},
   "outputs": [
    {
     "name": "stdout",
     "output_type": "stream",
     "text": [
      "['infected' 'uninfected']\n"
     ]
    }
   ],
   "source": [
    "reset(train)\n",
    "unique_label(train)"
   ]
  },
  {
   "cell_type": "code",
   "execution_count": 8,
   "metadata": {},
   "outputs": [
    {
     "name": "stdout",
     "output_type": "stream",
     "text": [
      "['infected' 'uninfected']\n"
     ]
    }
   ],
   "source": [
    "reset(test)\n",
    "unique_label(test)"
   ]
  },
  {
   "cell_type": "code",
   "execution_count": 9,
   "metadata": {},
   "outputs": [],
   "source": [
    "with open('JSON/train.json', 'w') as f:\n",
    "    json.dump(train, f)"
   ]
  },
  {
   "cell_type": "code",
   "execution_count": 10,
   "metadata": {},
   "outputs": [],
   "source": [
    "with open('JSON/test.json', 'w') as f:\n",
    "    json.dump(test, f)"
   ]
  }
 ],
 "metadata": {
  "kernelspec": {
   "display_name": "Python 3",
   "language": "python",
   "name": "python3"
  },
  "language_info": {
   "codemirror_mode": {
    "name": "ipython",
    "version": 3
   },
   "file_extension": ".py",
   "mimetype": "text/x-python",
   "name": "python",
   "nbconvert_exporter": "python",
   "pygments_lexer": "ipython3",
   "version": "3.7.4"
  }
 },
 "nbformat": 4,
 "nbformat_minor": 4
}
