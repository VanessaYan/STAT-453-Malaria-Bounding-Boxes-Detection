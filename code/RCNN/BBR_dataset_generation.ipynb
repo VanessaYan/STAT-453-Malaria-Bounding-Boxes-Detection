{
 "cells": [
  {
   "cell_type": "code",
   "execution_count": 1,
   "metadata": {},
   "outputs": [],
   "source": [
    "import os,cv2\n",
    "import numpy as np\n",
    "import json\n",
    "\n",
    "with open('Data/train/train.json') as f:\n",
    "  data = json.load(f)[200:400]"
   ]
  },
  {
   "cell_type": "code",
   "execution_count": 2,
   "metadata": {},
   "outputs": [],
   "source": [
    "def get_iou(bb1, bb2):\n",
    "    x_left = max(bb1['x1'], bb2['x1'])\n",
    "    y_top = max(bb1['y1'], bb2['y1'])\n",
    "    x_right = min(bb1['x2'], bb2['x2'])\n",
    "    y_bottom = min(bb1['y2'], bb2['y2'])\n",
    "\n",
    "    if x_right < x_left or y_bottom < y_top:\n",
    "        return 0.0\n",
    "\n",
    "    intersection_area = (x_right - x_left) * (y_bottom - y_top)\n",
    "\n",
    "    bb1_area = (bb1['x2'] - bb1['x1']) * (bb1['y2'] - bb1['y1'])\n",
    "    bb2_area = (bb2['x2'] - bb2['x1']) * (bb2['y2'] - bb2['y1'])\n",
    "\n",
    "    iou = intersection_area / float(bb1_area + bb2_area - intersection_area)\n",
    "    return iou\n",
    "\n",
    "def P_transform(bbx):\n",
    "    x,y,w,h = bbx\n",
    "    # x,y,w,h\n",
    "    return(np.array([x+w/2,y+h/2,float(w),float(h)]))\n",
    "\n",
    "def G_transform(bbx):\n",
    "    x1,x2,y1,y2 = bbx['x1'],bbx['x2'],bbx['y1'],bbx['y2']\n",
    "    # x,y,w,h\n",
    "    return(np.array([(x2+x1)/2,(y2+y1)/2,(x2-x1),(y2-y1)]))"
   ]
  },
  {
   "cell_type": "code",
   "execution_count": 3,
   "metadata": {},
   "outputs": [],
   "source": [
    "threshold = 0.85\n",
    "ss = cv2.ximgproc.segmentation.createSelectiveSearchSegmentation()\n",
    "\n",
    "G,P,regions = [],[],[]\n",
    "\n",
    "for i in range(len(data)):\n",
    "    subject = data[i]\n",
    "    path = 'Data/train'+subject['image']['pathname']\n",
    "    image = cv2.imread(path)\n",
    "    rects = subject['objects']\n",
    "    ss.setBaseImage(image)\n",
    "    ss.switchToSelectiveSearchFast()\n",
    "    ssrects = ss.process()\n",
    "    ssrects = ssrects[np.random.RandomState(seed=i).permutation(len(ssrects))[:2000]]\n",
    "    imout = image.copy()\n",
    "    \n",
    "    for j in range(len(rects)):\n",
    "        box = rects[j]['bbx']\n",
    "        iou = np.array([get_iou(box,{\"x1\":x,\"x2\":x+w,\"y1\":y,\"y2\":y+h}) for x,y,w,h in ssrects])\n",
    "        ind = np.argmax(iou)\n",
    "        iou = np.max(iou)\n",
    "        \n",
    "        if iou<threshold:\n",
    "            continue\n",
    "            \n",
    "        p = ssrects[ind]\n",
    "        x,y,w,h = p\n",
    "        region = cv2.resize(imout[y:y+h,x:x+w], (224,224), interpolation = cv2.INTER_AREA)\n",
    "        \n",
    "        G.append(G_transform(box))\n",
    "        P.append(P_transform(p))\n",
    "        regions.append(region.astype(float)/225)"
   ]
  },
  {
   "cell_type": "code",
   "execution_count": 4,
   "metadata": {},
   "outputs": [
    {
     "name": "stdout",
     "output_type": "stream",
     "text": [
      "2915\n"
     ]
    }
   ],
   "source": [
    "print(len(G))"
   ]
  },
  {
   "cell_type": "markdown",
   "metadata": {},
   "source": [
    "#### Extract features"
   ]
  },
  {
   "cell_type": "code",
   "execution_count": 5,
   "metadata": {},
   "outputs": [],
   "source": [
    "import torch\n",
    "from torchvision import transforms\n",
    "from torch.utils.data import DataLoader\n",
    "\n",
    "mean = [0.485, 0.456, 0.406]\n",
    "std = [0.229, 0.224, 0.225]\n",
    "\n",
    "transform = transforms.Compose([\n",
    " transforms.ToTensor(),\n",
    " transforms.Normalize(\n",
    " mean,std)])\n",
    "\n",
    "def data_loader(X,y):\n",
    "    d_ts = [transform(x) for x in X]\n",
    "    d_ls = []\n",
    "    for i in range(len(d_ts)):\n",
    "        d_ls.append([d_ts[i],int(y[i])])\n",
    "    loader = DataLoader(dataset = d_ls,batch_size=1,shuffle=False)\n",
    "    return(loader)\n",
    "\n",
    "torch.manual_seed(1)\n",
    "\n",
    "data = data_loader(regions,range(regions.shape[0]))\n",
    "\n",
    "del regions"
   ]
  },
  {
   "cell_type": "code",
   "execution_count": 6,
   "metadata": {},
   "outputs": [
    {
     "data": {
      "text/plain": [
       "<All keys matched successfully>"
      ]
     },
     "execution_count": 6,
     "metadata": {},
     "output_type": "execute_result"
    }
   ],
   "source": [
    "import torchvision.models as models\n",
    "import torch.nn as nn\n",
    "\n",
    "alexnet = models.alexnet()\n",
    "alexnet.classifier = nn.Sequential(*list(alexnet.classifier[:6]))\n",
    "alexnet.load_state_dict(torch.load('Model/alexnet.pth'))"
   ]
  },
  {
   "cell_type": "code",
   "execution_count": 7,
   "metadata": {},
   "outputs": [],
   "source": [
    "phi = []\n",
    "\n",
    "alexnet.eval()\n",
    "for feature,label in data:\n",
    "  phi.append(np.array(alexnet(feature.float()).detach().numpy()).reshape([4096]))\n",
    "\n",
    "phi = np.array(phi)\n",
    "\n",
    "del data"
   ]
  },
  {
   "cell_type": "markdown",
   "metadata": {},
   "source": [
    "#### Get  $\\ \\ t_*\\ \\ $  variables"
   ]
  },
  {
   "cell_type": "code",
   "execution_count": 8,
   "metadata": {},
   "outputs": [],
   "source": [
    "import pandas as pd\n",
    "\n",
    "G,P = pd.DataFrame(G,columns=['x','y','w','h']),pd.DataFrame(P,columns=['x','y','w','h'])"
   ]
  },
  {
   "cell_type": "code",
   "execution_count": 9,
   "metadata": {},
   "outputs": [],
   "source": [
    "t_x = (G['x']-P['x'])/P['w']\n",
    "t_y = (G['y']-P['y'])/P['h']\n",
    "t_w = np.log(G['w']/P['w'])\n",
    "t_h = np.log(G['h']/P['h'])\n",
    "\n",
    "T = pd.concat([t_x,t_y,t_w,t_h],axis=1)\n",
    "T.columns = ['t_x','t_y','t_w','t_h']\n",
    "\n",
    "del G,P"
   ]
  },
  {
   "cell_type": "markdown",
   "metadata": {},
   "source": [
    "#### Save data"
   ]
  },
  {
   "cell_type": "code",
   "execution_count": 10,
   "metadata": {},
   "outputs": [],
   "source": [
    "np.save(\"Data/BBR/phi\",phi)\n",
    "T.to_csv(\"Data/BBR/T.csv\")"
   ]
  }
 ],
 "metadata": {
  "kernelspec": {
   "display_name": "Python 3",
   "language": "python",
   "name": "python3"
  },
  "language_info": {
   "codemirror_mode": {
    "name": "ipython",
    "version": 3
   },
   "file_extension": ".py",
   "mimetype": "text/x-python",
   "name": "python",
   "nbconvert_exporter": "python",
   "pygments_lexer": "ipython3",
   "version": "3.7.4"
  }
 },
 "nbformat": 4,
 "nbformat_minor": 4
}
