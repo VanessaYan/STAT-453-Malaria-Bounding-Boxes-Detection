{
 "cells": [
  {
   "cell_type": "code",
   "execution_count": 1,
   "metadata": {},
   "outputs": [],
   "source": [
    "import numpy as np\n",
    "import matplotlib.pyplot as plt\n",
    "import torch\n",
    "import torchvision.models as models\n",
    "import torch.nn as nn\n",
    "from torchvision import transforms\n",
    "from torch.utils.data import DataLoader"
   ]
  },
  {
   "cell_type": "markdown",
   "metadata": {},
   "source": [
    "## Load AlexNet model"
   ]
  },
  {
   "cell_type": "code",
   "execution_count": 2,
   "metadata": {},
   "outputs": [
    {
     "data": {
      "text/plain": [
       "<All keys matched successfully>"
      ]
     },
     "execution_count": 2,
     "metadata": {},
     "output_type": "execute_result"
    }
   ],
   "source": [
    "alexnet = models.alexnet()\n",
    "alexnet.classifier = nn.Sequential(*list(alexnet.classifier[:6]))\n",
    "alexnet.load_state_dict(torch.load('Model/alexnet.pth'))"
   ]
  },
  {
   "cell_type": "markdown",
   "metadata": {},
   "source": [
    "## Load data"
   ]
  },
  {
   "cell_type": "code",
   "execution_count": 3,
   "metadata": {},
   "outputs": [],
   "source": [
    "X = np.load(\"Data/X.npy\")[2000:7000].astype(float)/255\n",
    "y = np.load(\"Data/y.npy\")[2000:7000]"
   ]
  },
  {
   "cell_type": "code",
   "execution_count": 4,
   "metadata": {},
   "outputs": [],
   "source": [
    "mean = [0.485, 0.456, 0.406]\n",
    "std = [0.229, 0.224, 0.225]\n",
    "\n",
    "transform = transforms.Compose([\n",
    " transforms.ToTensor(),\n",
    " transforms.Normalize(\n",
    " mean,std)])\n",
    "\n",
    "def data_loader(X,y):\n",
    "    d_ts = [transform(x) for x in X]\n",
    "    d_ls = []\n",
    "    for i in range(len(d_ts)):\n",
    "        d_ls.append([d_ts[i],int(y[i])])\n",
    "    loader = DataLoader(dataset = d_ls,batch_size=1,shuffle=False)\n",
    "    return(loader)\n",
    "\n",
    "torch.manual_seed(1)\n",
    "\n",
    "data = data_loader(X,y)\n",
    "\n",
    "del X,y"
   ]
  },
  {
   "cell_type": "markdown",
   "metadata": {},
   "source": [
    "##### Extract features"
   ]
  },
  {
   "cell_type": "code",
   "execution_count": 5,
   "metadata": {},
   "outputs": [],
   "source": [
    "features,labels = [],[]\n",
    "\n",
    "alexnet.eval()\n",
    "for feature,label in data:\n",
    "  features.append(np.array(alexnet(feature.float()).detach().numpy()).reshape([4096]))\n",
    "  labels.append(int(label))\n",
    "\n",
    "features = np.array(features)\n",
    "labels = np.array(labels)\n",
    "\n",
    "del data"
   ]
  },
  {
   "cell_type": "markdown",
   "metadata": {},
   "source": [
    "## Train SVM models for each classes"
   ]
  },
  {
   "cell_type": "code",
   "execution_count": 6,
   "metadata": {},
   "outputs": [],
   "source": [
    "from sklearn import svm\n",
    "from sklearn.model_selection import train_test_split\n",
    "from sklearn.model_selection import cross_val_score"
   ]
  },
  {
   "cell_type": "code",
   "execution_count": 7,
   "metadata": {},
   "outputs": [],
   "source": [
    "X_train, X_test, y_train, y_test = train_test_split(features, labels, test_size=0.3, random_state=0)"
   ]
  },
  {
   "cell_type": "markdown",
   "metadata": {},
   "source": [
    "##### Separate data by label"
   ]
  },
  {
   "cell_type": "code",
   "execution_count": 8,
   "metadata": {},
   "outputs": [],
   "source": [
    "y1_train,y1_test = 0+(y_train==1), 0+(y_test==1)\n",
    "y2_train,y2_test = 0+(y_train==2), 0+(y_test==2)"
   ]
  },
  {
   "cell_type": "markdown",
   "metadata": {},
   "source": [
    "||uninfected|infected|background|\n",
    "|------|------|------|------|\n",
    "|train|1676|459|1765|\n",
    "|test|734|31|735|"
   ]
  },
  {
   "cell_type": "markdown",
   "metadata": {},
   "source": [
    "### Uninfected class"
   ]
  },
  {
   "cell_type": "code",
   "execution_count": 9,
   "metadata": {},
   "outputs": [
    {
     "name": "stdout",
     "output_type": "stream",
     "text": [
      "Accuracy of uninfected class SVM: 88.89% (+/- 2.68%)\n"
     ]
    }
   ],
   "source": [
    "svm1 = svm.SVC(gamma='scale')\n",
    "scores = cross_val_score(svm1, X_train, y1_train, cv=5)\n",
    "print(\"Accuracy of uninfected class SVM: %.2f%% (+/- %.2f%%)\" % (scores.mean()*100, scores.std() * 200))"
   ]
  },
  {
   "cell_type": "code",
   "execution_count": 10,
   "metadata": {},
   "outputs": [
    {
     "name": "stdout",
     "output_type": "stream",
     "text": [
      "Accuracy on test set: 89.47% \n"
     ]
    }
   ],
   "source": [
    "svm1.fit(X_train, y1_train)\n",
    "print(\"Accuracy on test set: %.2f%% \" % (svm1.score(X_test, y1_test)*100))"
   ]
  },
  {
   "cell_type": "markdown",
   "metadata": {},
   "source": [
    "### Infected class"
   ]
  },
  {
   "cell_type": "code",
   "execution_count": 11,
   "metadata": {},
   "outputs": [
    {
     "name": "stdout",
     "output_type": "stream",
     "text": [
      "Accuracy of infected class SVM: 89.86% (+/- 3.70%)\n"
     ]
    }
   ],
   "source": [
    "svm2 = svm.SVC(kernel='linear',class_weight='balanced')\n",
    "scores = cross_val_score(svm2, X_train, y2_train, cv=5)\n",
    "print(\"Accuracy of infected class SVM: %.2f%% (+/- %.2f%%)\" % (scores.mean()*100, scores.std() * 200))"
   ]
  },
  {
   "cell_type": "code",
   "execution_count": 12,
   "metadata": {},
   "outputs": [
    {
     "name": "stdout",
     "output_type": "stream",
     "text": [
      "Accuracy on test set: 88.87% \n"
     ]
    }
   ],
   "source": [
    "svm2.fit(X_train, y2_train)\n",
    "print(\"Accuracy on test set: %.2f%% \" % (svm2.score(X_test, y2_test)*100))"
   ]
  },
  {
   "cell_type": "markdown",
   "metadata": {},
   "source": [
    "### Save model"
   ]
  },
  {
   "cell_type": "code",
   "execution_count": 13,
   "metadata": {},
   "outputs": [],
   "source": [
    "import pickle\n",
    "\n",
    "pickle.dump(svm1, open('Model/svm1.sav', 'wb'))\n",
    "pickle.dump(svm2, open('Model/svm2.sav', 'wb'))"
   ]
  }
 ],
 "metadata": {
  "kernelspec": {
   "display_name": "Python 3",
   "language": "python",
   "name": "python3"
  },
  "language_info": {
   "codemirror_mode": {
    "name": "ipython",
    "version": 3
   },
   "file_extension": ".py",
   "mimetype": "text/x-python",
   "name": "python",
   "nbconvert_exporter": "python",
   "pygments_lexer": "ipython3",
   "version": "3.7.4"
  }
 },
 "nbformat": 4,
 "nbformat_minor": 4
}
