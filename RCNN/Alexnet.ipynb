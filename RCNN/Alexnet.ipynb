{
 "cells": [
  {
   "cell_type": "code",
   "execution_count": 1,
   "metadata": {},
   "outputs": [],
   "source": [
    "import numpy as np\n",
    "import matplotlib.pyplot as plt\n",
    "import torch,time\n",
    "import torchvision.models as models\n",
    "import torch.nn as nn\n",
    "import torch.nn.functional as F\n",
    "from torchvision import transforms\n",
    "from torch.utils.data import DataLoader"
   ]
  },
  {
   "cell_type": "markdown",
   "metadata": {},
   "source": [
    "### Settings"
   ]
  },
  {
   "cell_type": "code",
   "execution_count": 2,
   "metadata": {},
   "outputs": [
    {
     "data": {
      "text/plain": [
       "<torch._C.Generator at 0x128de70d350>"
      ]
     },
     "execution_count": 2,
     "metadata": {},
     "output_type": "execute_result"
    }
   ],
   "source": [
    "# Hyperparameters\n",
    "random_seed = 1\n",
    "learning_rate = 0.001\n",
    "num_epochs = 25\n",
    "batch_size = 128\n",
    "\n",
    "# Architecture\n",
    "num_classes = 3\n",
    "\n",
    "torch.manual_seed(random_seed)"
   ]
  },
  {
   "cell_type": "markdown",
   "metadata": {},
   "source": [
    "# Load data"
   ]
  },
  {
   "cell_type": "code",
   "execution_count": 3,
   "metadata": {},
   "outputs": [],
   "source": [
    "X = np.load(\"Data/X.npy\")[:2000].astype(float)/255\n",
    "y = np.load(\"Data/y.npy\")[:2000]\n",
    "\n",
    "shuffle_idx = np.random.RandomState(seed=453).permutation(len(X))\n",
    "percent85 = int(len(shuffle_idx)*0.85)\n",
    "percent90 = int(len(shuffle_idx)*0.90)\n",
    "\n",
    "train_ind, valid_ind, test_ind= shuffle_idx[:percent85], shuffle_idx[percent85:percent90],shuffle_idx[percent90:]\n",
    "\n",
    "X_train, y_train, X_valid, y_valid , X_test, y_test= X[train_ind], y[train_ind],X[valid_ind], y[valid_ind], X[test_ind], y[test_ind]\n",
    "\n",
    "del X,y"
   ]
  },
  {
   "cell_type": "code",
   "execution_count": 4,
   "metadata": {},
   "outputs": [],
   "source": [
    "# for technical reasons\n",
    "mean = [0.485, 0.456, 0.406]\n",
    "std = [0.229, 0.224, 0.225]\n",
    "\n",
    "transform = transforms.Compose([\n",
    " transforms.ToTensor(),\n",
    " transforms.Normalize(\n",
    " mean,std)])\n",
    "\n",
    "def data_loader(X,y):\n",
    "    d_ts = [transform(x) for x in X]\n",
    "    d_ls = []\n",
    "    for i in range(len(d_ts)):\n",
    "        d_ls.append([d_ts[i],int(y[i])])\n",
    "    loader = DataLoader(dataset = d_ls,\n",
    "                       batch_size = batch_size,\n",
    "                       shuffle = True)\n",
    "    return(loader)\n",
    "\n",
    "train_loader = data_loader(X_train,y_train)\n",
    "validation_loader = data_loader(X_valid,y_valid)\n",
    "test_loader = data_loader(X_test,y_test)\n",
    "\n",
    "del X_train,y_train,X_valid,y_valid,X_test,y_test"
   ]
  },
  {
   "cell_type": "markdown",
   "metadata": {},
   "source": [
    "# Pre-trained AlexNet model"
   ]
  },
  {
   "cell_type": "markdown",
   "metadata": {},
   "source": [
    "### Load model"
   ]
  },
  {
   "cell_type": "code",
   "execution_count": 5,
   "metadata": {},
   "outputs": [],
   "source": [
    "alexnet = models.alexnet(pretrained=True)"
   ]
  },
  {
   "cell_type": "code",
   "execution_count": 6,
   "metadata": {},
   "outputs": [
    {
     "data": {
      "text/plain": [
       "AlexNet(\n",
       "  (features): Sequential(\n",
       "    (0): Conv2d(3, 64, kernel_size=(11, 11), stride=(4, 4), padding=(2, 2))\n",
       "    (1): ReLU(inplace=True)\n",
       "    (2): MaxPool2d(kernel_size=3, stride=2, padding=0, dilation=1, ceil_mode=False)\n",
       "    (3): Conv2d(64, 192, kernel_size=(5, 5), stride=(1, 1), padding=(2, 2))\n",
       "    (4): ReLU(inplace=True)\n",
       "    (5): MaxPool2d(kernel_size=3, stride=2, padding=0, dilation=1, ceil_mode=False)\n",
       "    (6): Conv2d(192, 384, kernel_size=(3, 3), stride=(1, 1), padding=(1, 1))\n",
       "    (7): ReLU(inplace=True)\n",
       "    (8): Conv2d(384, 256, kernel_size=(3, 3), stride=(1, 1), padding=(1, 1))\n",
       "    (9): ReLU(inplace=True)\n",
       "    (10): Conv2d(256, 256, kernel_size=(3, 3), stride=(1, 1), padding=(1, 1))\n",
       "    (11): ReLU(inplace=True)\n",
       "    (12): MaxPool2d(kernel_size=3, stride=2, padding=0, dilation=1, ceil_mode=False)\n",
       "  )\n",
       "  (avgpool): AdaptiveAvgPool2d(output_size=(6, 6))\n",
       "  (classifier): Sequential(\n",
       "    (0): Dropout(p=0.5, inplace=False)\n",
       "    (1): Linear(in_features=9216, out_features=4096, bias=True)\n",
       "    (2): ReLU(inplace=True)\n",
       "    (3): Dropout(p=0.5, inplace=False)\n",
       "    (4): Linear(in_features=4096, out_features=4096, bias=True)\n",
       "    (5): ReLU(inplace=True)\n",
       "    (6): Linear(in_features=4096, out_features=3, bias=True)\n",
       "  )\n",
       ")"
      ]
     },
     "execution_count": 6,
     "metadata": {},
     "output_type": "execute_result"
    }
   ],
   "source": [
    "alexnet.classifier[6] = nn.Linear(4096,num_classes)\n",
    "alexnet"
   ]
  },
  {
   "cell_type": "markdown",
   "metadata": {},
   "source": [
    "### Train model"
   ]
  },
  {
   "cell_type": "code",
   "execution_count": 7,
   "metadata": {},
   "outputs": [],
   "source": [
    "optimizer = torch.optim.Adam(alexnet.parameters(), lr=learning_rate)"
   ]
  },
  {
   "cell_type": "code",
   "execution_count": 8,
   "metadata": {},
   "outputs": [],
   "source": [
    "def compute_accuracy(model, data_loader):\n",
    "    correct_pred, num_examples = 0, 0\n",
    "    for features, targets in data_loader:\n",
    "        logits= model(features.float())\n",
    "        predicted_labels = torch.max(logits,1).indices\n",
    "        num_examples += targets.size(0)\n",
    "        correct_pred += (predicted_labels == targets).sum()\n",
    "    return correct_pred.float()/num_examples * 100"
   ]
  },
  {
   "cell_type": "code",
   "execution_count": 9,
   "metadata": {},
   "outputs": [],
   "source": [
    "start_time = time.time()\n",
    "train_acc,valid_acc,tr_cost = [],[],[]"
   ]
  },
  {
   "cell_type": "code",
   "execution_count": 10,
   "metadata": {},
   "outputs": [
    {
     "name": "stdout",
     "output_type": "stream",
     "text": [
      "Epoch: 001/025 | Batch 000/014 | Cost: 1.2648\n",
      "Epoch: 001/025 | Batch 005/014 | Cost: 0.9559\n",
      "Epoch: 001/025 | Batch 010/014 | Cost: 0.7518\n",
      "Training accuracy: 74.35%\n",
      "Validation accuracy: 79.00%\n",
      "Time elapsed: 3.81 min\n",
      "Epoch: 002/025 | Batch 000/014 | Cost: 0.7707\n",
      "Epoch: 002/025 | Batch 005/014 | Cost: 0.8251\n",
      "Epoch: 002/025 | Batch 010/014 | Cost: 0.7453\n",
      "Training accuracy: 78.59%\n",
      "Validation accuracy: 79.00%\n",
      "Time elapsed: 7.21 min\n",
      "Epoch: 003/025 | Batch 000/014 | Cost: 0.5298\n",
      "Epoch: 003/025 | Batch 005/014 | Cost: 0.6834\n",
      "Epoch: 003/025 | Batch 010/014 | Cost: 0.5273\n",
      "Training accuracy: 84.29%\n",
      "Validation accuracy: 85.00%\n",
      "Time elapsed: 10.73 min\n",
      "Epoch: 004/025 | Batch 000/014 | Cost: 0.5589\n",
      "Epoch: 004/025 | Batch 005/014 | Cost: 0.5885\n",
      "Epoch: 004/025 | Batch 010/014 | Cost: 0.5722\n",
      "Training accuracy: 80.59%\n",
      "Validation accuracy: 83.00%\n",
      "Time elapsed: 14.23 min\n",
      "Epoch: 005/025 | Batch 000/014 | Cost: 0.7045\n",
      "Epoch: 005/025 | Batch 005/014 | Cost: 0.5432\n",
      "Epoch: 005/025 | Batch 010/014 | Cost: 0.6237\n",
      "Training accuracy: 78.35%\n",
      "Validation accuracy: 83.00%\n",
      "Time elapsed: 17.84 min\n",
      "Epoch: 006/025 | Batch 000/014 | Cost: 0.6149\n",
      "Epoch: 006/025 | Batch 005/014 | Cost: 0.4440\n",
      "Epoch: 006/025 | Batch 010/014 | Cost: 0.4815\n",
      "Training accuracy: 87.12%\n",
      "Validation accuracy: 92.00%\n",
      "Time elapsed: 21.27 min\n",
      "Epoch: 007/025 | Batch 000/014 | Cost: 0.4972\n",
      "Epoch: 007/025 | Batch 005/014 | Cost: 0.2871\n",
      "Epoch: 007/025 | Batch 010/014 | Cost: 0.3470\n",
      "Training accuracy: 86.59%\n",
      "Validation accuracy: 82.00%\n",
      "Time elapsed: 24.67 min\n",
      "Epoch: 008/025 | Batch 000/014 | Cost: 0.3752\n",
      "Epoch: 008/025 | Batch 005/014 | Cost: 0.4969\n",
      "Epoch: 008/025 | Batch 010/014 | Cost: 0.4238\n",
      "Training accuracy: 88.53%\n",
      "Validation accuracy: 91.00%\n",
      "Time elapsed: 28.07 min\n",
      "Epoch: 009/025 | Batch 000/014 | Cost: 0.3198\n",
      "Epoch: 009/025 | Batch 005/014 | Cost: 0.3507\n",
      "Epoch: 009/025 | Batch 010/014 | Cost: 0.3929\n",
      "Training accuracy: 93.06%\n",
      "Validation accuracy: 95.00%\n",
      "Time elapsed: 31.52 min\n",
      "Epoch: 010/025 | Batch 000/014 | Cost: 0.2885\n",
      "Epoch: 010/025 | Batch 005/014 | Cost: 0.3170\n",
      "Epoch: 010/025 | Batch 010/014 | Cost: 0.2784\n",
      "Training accuracy: 94.29%\n",
      "Validation accuracy: 96.00%\n",
      "Time elapsed: 34.87 min\n",
      "Total Training Time: 34.87 min\n"
     ]
    }
   ],
   "source": [
    "for epoch in range(num_epochs):\n",
    "    \n",
    "    if epoch==10:\n",
    "        break\n",
    "    \n",
    "    alexnet.train()\n",
    "    for batch_idx, (features, targets) in enumerate(train_loader):\n",
    "\n",
    "        ### FORWARD AND BACK PROP\n",
    "        logits = alexnet(features.float())\n",
    "        cost = F.cross_entropy(logits, targets.long())\n",
    "        optimizer.zero_grad()\n",
    "        \n",
    "        tr_cost.append(float(cost))\n",
    "        cost.backward()\n",
    "        \n",
    "        ### UPDATE MODEL PARAMETERS\n",
    "        optimizer.step()\n",
    "        \n",
    "        ### LOGGING\n",
    "        if not batch_idx % 5:\n",
    "            print ('Epoch: %03d/%03d | Batch %03d/%03d | Cost: %.4f' \n",
    "                   %(epoch+1, num_epochs, batch_idx, \n",
    "                     len(train_loader), cost))\n",
    "    \n",
    "    alexnet.eval()\n",
    "    tr_acc = compute_accuracy(alexnet, train_loader)\n",
    "    ts_acc = compute_accuracy(alexnet, validation_loader)\n",
    "    train_acc.append(float(tr_acc))\n",
    "    valid_acc.append(float(ts_acc))\n",
    "    \n",
    "    print('Training accuracy: %.2f%%' % (tr_acc))\n",
    "    print('Validation accuracy: %.2f%%' % (ts_acc))\n",
    "    \n",
    "    print('Time elapsed: %.2f min' % ((time.time() - start_time)/60))\n",
    "    \n",
    "print('Total Training Time: %.2f min' % ((time.time() - start_time)/60))"
   ]
  },
  {
   "cell_type": "code",
   "execution_count": 11,
   "metadata": {},
   "outputs": [
    {
     "data": {
      "image/png": "[encoded data removed]",
      "text/plain": [
       "<Figure size 432x288 with 1 Axes>"
      ]
     },
     "metadata": {
      "needs_background": "light"
     },
     "output_type": "display_data"
    }
   ],
   "source": [
    "plt.plot(range(1,len(tr_cost)+1),np.array(tr_cost))\n",
    "plt.ylabel('Cross entropy cost')\n",
    "plt.show()"
   ]
  },
  {
   "cell_type": "markdown",
   "metadata": {},
   "source": [
    "### Evaluation"
   ]
  },
  {
   "cell_type": "code",
   "execution_count": 12,
   "metadata": {},
   "outputs": [
    {
     "data": {
      "image/png": "[encoded data removed]",
      "text/plain": [
       "<Figure size 432x288 with 1 Axes>"
      ]
     },
     "metadata": {
      "needs_background": "light"
     },
     "output_type": "display_data"
    }
   ],
   "source": [
    "plt.plot(range(1, len(train_acc)+1), np.array(train_acc), label='train_acc')\n",
    "plt.plot(range(1, len(valid_acc)+1), np.array(valid_acc), label='valid_acc')\n",
    "plt.legend(loc='lower right')\n",
    "plt.ylim([50,100])\n",
    "plt.ylabel('Accuracy')\n",
    "plt.xlabel('Epoch')\n",
    "plt.show()"
   ]
  },
  {
   "cell_type": "code",
   "execution_count": 13,
   "metadata": {},
   "outputs": [
    {
     "name": "stdout",
     "output_type": "stream",
     "text": [
      "Test accuracy: 92.00%\n"
     ]
    }
   ],
   "source": [
    "print('Test accuracy: %.2f%%' % compute_accuracy(alexnet, test_loader))"
   ]
  },
  {
   "cell_type": "markdown",
   "metadata": {},
   "source": [
    "### Prune and save model"
   ]
  },
  {
   "cell_type": "code",
   "execution_count": 14,
   "metadata": {},
   "outputs": [],
   "source": [
    "alexnet.classifier = nn.Sequential(*list(alexnet.classifier[:6]))\n",
    "torch.save(alexnet.state_dict(),'Model/alexnet.pth')"
   ]
  }
 ],
 "metadata": {
  "kernelspec": {
   "display_name": "Python 3",
   "language": "python",
   "name": "python3"
  },
  "language_info": {
   "codemirror_mode": {
    "name": "ipython",
    "version": 3
   },
   "file_extension": ".py",
   "mimetype": "text/x-python",
   "name": "python",
   "nbconvert_exporter": "python",
   "pygments_lexer": "ipython3",
   "version": "3.7.4"
  }
 },
 "nbformat": 4,
 "nbformat_minor": 4
}
