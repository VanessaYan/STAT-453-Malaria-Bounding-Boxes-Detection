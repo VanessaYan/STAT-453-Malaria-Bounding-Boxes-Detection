{
 "cells": [
  {
   "cell_type": "code",
   "execution_count": 1,
   "metadata": {},
   "outputs": [],
   "source": [
    "import os,cv2\n",
    "import numpy as np"
   ]
  },
  {
   "cell_type": "markdown",
   "metadata": {},
   "source": [
    "## Load data"
   ]
  },
  {
   "cell_type": "code",
   "execution_count": 2,
   "metadata": {},
   "outputs": [],
   "source": [
    "import json\n",
    "with open('Data/train/train.json') as f:\n",
    "  train = json.load(f)"
   ]
  },
  {
   "cell_type": "markdown",
   "metadata": {},
   "source": [
    "## Regional Proposal"
   ]
  },
  {
   "cell_type": "code",
   "execution_count": 3,
   "metadata": {},
   "outputs": [],
   "source": [
    "def get_iou(bb1, bb2):\n",
    "    x_left = max(bb1['x1'], bb2['x1'])\n",
    "    y_top = max(bb1['y1'], bb2['y1'])\n",
    "    x_right = min(bb1['x2'], bb2['x2'])\n",
    "    y_bottom = min(bb1['y2'], bb2['y2'])\n",
    "\n",
    "    if x_right < x_left or y_bottom < y_top:\n",
    "        return 0.0\n",
    "\n",
    "    intersection_area = (x_right - x_left) * (y_bottom - y_top)\n",
    "\n",
    "    bb1_area = (bb1['x2'] - bb1['x1']) * (bb1['y2'] - bb1['y1'])\n",
    "    bb2_area = (bb2['x2'] - bb2['x1']) * (bb2['y2'] - bb2['y1'])\n",
    "\n",
    "    iou = intersection_area / float(bb1_area + bb2_area - intersection_area)\n",
    "    return iou"
   ]
  },
  {
   "cell_type": "markdown",
   "metadata": {},
   "source": [
    "|numeric|label|\n",
    "|------|------|\n",
    "|0|background|\n",
    "|1|uninfected|\n",
    "|2|infected|"
   ]
  },
  {
   "cell_type": "code",
   "execution_count": 4,
   "metadata": {},
   "outputs": [],
   "source": [
    "threshold = 0.85\n",
    "ss = cv2.ximgproc.segmentation.createSelectiveSearchSegmentation()\n",
    "train_images = []\n",
    "train_labels = []\n",
    "k = 1\n",
    "data = train[:200]"
   ]
  },
  {
   "cell_type": "code",
   "execution_count": 5,
   "metadata": {},
   "outputs": [],
   "source": [
    "for i in range(len(data)):\n",
    "    subject = data[i]\n",
    "    path = 'Data/train'+subject['image']['pathname']\n",
    "    image = cv2.imread(path)\n",
    "    rects = subject['objects']\n",
    "    ss.setBaseImage(image)\n",
    "    ss.switchToSelectiveSearchFast()\n",
    "    ssrects = ss.process()\n",
    "    ssrects = ssrects[np.random.RandomState(seed=i).permutation(len(ssrects))[:2000]]\n",
    "    imout = image.copy()\n",
    "\n",
    "    for j in range(len(rects)):\n",
    "        box = rects[j]['bbx']\n",
    "        label = (rects[j]['category']=='infected')+1\n",
    "        iou = np.array([get_iou(box,{\"x1\":x,\"x2\":x+w,\"y1\":y,\"y2\":y+h}) for x,y,w,h in ssrects])\n",
    "        \n",
    "        ind_t = np.array(np.where(iou>=threshold)[0],dtype=\"float\").reshape([-1,1])\n",
    "        ind_f = np.array(np.where(iou<=(1-threshold)/2)[0],dtype=\"float\").reshape([-1,1])\n",
    "        ind_f = ind_f[:min(len(ind_t),len(ind_f))]\n",
    "        ind = np.array(np.vstack([ind_t,ind_f]),dtype=\"int\")\n",
    "        train_labels += np.array([label]*len(ind_t)).tolist()+[0]*len(ind_f)\n",
    "        \n",
    "        srects = ssrects[ind]\n",
    "        srects = srects.reshape([srects.shape[0],srects.shape[2]])\n",
    "        train_images += [cv2.resize(imout[y:y+h,x:x+w], (224,224), interpolation = cv2.INTER_AREA) for x,y,w,h in srects] \n",
    "        \n",
    "        if len(train_images)>=1000:\n",
    "            np.save('Data/wrapped_train_data/images/data_'+str(k),np.array(train_images[:1000]))\n",
    "            np.save('Data/wrapped_train_data/labels/data_'+str(k),np.array(train_labels[:1000]))\n",
    "            train_images,train_labels = train_images[1000:],train_labels[1000:]\n",
    "            k=k+1\n",
    "        \n",
    "    if len(train_images)>0:\n",
    "        np.save('Data/wrapped_train_data/images/data_'+str(k),np.array(train_images))\n",
    "        np.save('Data/wrapped_train_data/labels/data_'+str(k),np.array(train_labels))"
   ]
  },
  {
   "cell_type": "code",
   "execution_count": 6,
   "metadata": {},
   "outputs": [
    {
     "name": "stdout",
     "output_type": "stream",
     "text": [
      "data_1:1000\n",
      "data_2:1000\n",
      "data_3:1000\n",
      "data_4:1000\n",
      "data_5:1000\n",
      "data_6:1000\n",
      "data_7:1000\n",
      "data_8:1000\n",
      "data_9:1000\n",
      "data_10:1000\n",
      "data_11:1000\n",
      "data_12:1000\n",
      "data_13:302\n",
      "Number of images extracted: 12302\n"
     ]
    }
   ],
   "source": [
    "s=0\n",
    "for i in range(len(os.listdir(\"Data/wrapped_train_data/images/\"))):\n",
    "    l = len(np.load(\"Data/wrapped_train_data/images/data_\"+str(i+1)+\".npy\"))\n",
    "    s += l\n",
    "    print(\"data_\"+str(i+1)+\":\"+str(l))\n",
    "\n",
    "print(\"Number of images extracted:\",s)"
   ]
  },
  {
   "cell_type": "markdown",
   "metadata": {},
   "source": [
    "## Resemble data"
   ]
  },
  {
   "cell_type": "code",
   "execution_count": 7,
   "metadata": {},
   "outputs": [],
   "source": [
    "X = []\n",
    "y = []\n",
    "\n",
    "for i in range(13):\n",
    "    X += list(np.load(\"Data/wrapped_train_data/images/\"+\"data_\"+str(i+1)+\".npy\"))\n",
    "    y += list(np.load(\"Data/wrapped_train_data/labels/\"+\"data_\"+str(i+1)+\".npy\"))\n",
    "\n",
    "\n",
    "X = np.array(X)\n",
    "y = np.array(y)"
   ]
  },
  {
   "cell_type": "markdown",
   "metadata": {},
   "source": [
    "#### One-hot lables"
   ]
  },
  {
   "cell_type": "code",
   "execution_count": 8,
   "metadata": {},
   "outputs": [],
   "source": [
    "one_hot = np.zeros([len(y),3])\n",
    "for i in range(len(one_hot)):\n",
    "    one_hot[i][y[i]]=1"
   ]
  },
  {
   "cell_type": "markdown",
   "metadata": {},
   "source": [
    "#### Save data"
   ]
  },
  {
   "cell_type": "code",
   "execution_count": 10,
   "metadata": {},
   "outputs": [],
   "source": [
    "np.save(\"Data/X\",X)\n",
    "np.save(\"Data/y\",y)\n",
    "np.save(\"Data/y_onehot\",one_hot)"
   ]
  }
 ],
 "metadata": {
  "kernelspec": {
   "display_name": "Python 3",
   "language": "python",
   "name": "python3"
  },
  "language_info": {
   "codemirror_mode": {
    "name": "ipython",
    "version": 3
   },
   "file_extension": ".py",
   "mimetype": "text/x-python",
   "name": "python",
   "nbconvert_exporter": "python",
   "pygments_lexer": "ipython3",
   "version": "3.7.4"
  }
 },
 "nbformat": 4,
 "nbformat_minor": 4
}
